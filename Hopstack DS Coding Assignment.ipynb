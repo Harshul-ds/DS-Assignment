{
 "cells": [
  {
   "cell_type": "markdown",
   "metadata": {},
   "source": [
    "# Confidential\n",
    "Not to be shared with anyone without permission from Hopstack Inc. "
   ]
  },
  {
   "cell_type": "markdown",
   "metadata": {},
   "source": [
    "## Rules:\n",
    "1. We expect you to take no more than three days to finish this assignment.\n",
    "2. We expect you to solve these questions in python, and you are free to use whichever tools you like. \n",
    "3. You should be able to justify the programming and design choices you make. "
   ]
  },
  {
   "cell_type": "markdown",
   "metadata": {},
   "source": [
    "## 1. Operations Research\n",
    "An automobile tire company has the ability to produce both nylon and fiberglass tires. During the next three months they have agreed to deliver tires as follows:\n",
    "\n",
    "|Date  | \tNylon (No. of Tires) |\tFiberglass (No. of Tires) |\n",
    "|June 30 |\t4000 |\t1000 |\n",
    "|July 31 |\t8000 |\t5000 |\n",
    "|August 31 |\t3000 |\t5000 |\n",
    "\n",
    "\n",
    "The company has two presses, a wheeling machine and a regal machine, and appropriate moulds that can be used to produce these tires, with the following production hours available in the upcoming months\n",
    "\n",
    "|Month |\tWheeling Machine (Hours) |\tRegal Machine (Hours) |\n",
    "| --- | --- | --- |\n",
    "|June |\t700 |\t1500 |\n",
    "|July |\t300 |\t400 |\n",
    "|August |\t1000 |\t300 |\n",
    "\n",
    "The production rates (hours per tire) for each machine and tire combination are as follows:\n",
    "\n",
    "|  \t|Wheeling Machine (Hours/tire)\t| Regal Machine (Hours/tire) |\n",
    "| --- | --- | --- |\n",
    "|Nylon |\t0.15 |\t0.16 |\n",
    "|Fiberglass |\t0.12 |\t0.14 |\n",
    "\n",
    "The variable costs of producing tires are USD 5.00 per operating hour, regardless of which machine is being used or which tire is being produced. There is also an inventory-carrying charge of USD 0.10 per tire per month. How should the production be scheduled in order to meet the delivery requirements at minimum costs? This problem constitutes 16 decision variables, 6 inequality and 6 equality linear constraints. \n",
    "\n"
   ]
  },
  {
   "cell_type": "markdown",
   "metadata": {},
   "source": [
    "## 2. Forecasting\n",
    "\n",
    "The data in the ./data/ directory is from a meal delivery company which operates in multiple cities and delivers different types of meals. From various fulfillment centers across different cities they will dispatch their meal orders to their customers. It is your job to help our client to predict meal order demand for the upcoming weeks, such that our client can plan the stock of raw materials and staffing accordingly. Concretely we need you to predict meal-center combinations for the next 10 weeks (Weeks: 146-155).\n",
    "\n",
    "We expect you to understand the underlying data (through descriptive analytics), develop a machine learning model to fulfill our clients request, and be able to justify and explain your design choices along the way.\n",
    "s. "
   ]
  }
 ],
 "metadata": {
  "kernelspec": {
   "display_name": "Python 3",
   "language": "python",
   "name": "python3"
  },
  "language_info": {
   "codemirror_mode": {
    "name": "ipython",
    "version": 3
   },
   "file_extension": ".py",
   "mimetype": "text/x-python",
   "name": "python",
   "nbconvert_exporter": "python",
   "pygments_lexer": "ipython3",
   "version": "3.8.5"
  }
 },
 "nbformat": 4,
 "nbformat_minor": 4
}
